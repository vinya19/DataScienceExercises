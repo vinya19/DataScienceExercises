<center>
    <img src="https://cf-courses-data.s3.us.cloud-object-storage.appdomain.cloud/IBMDeveloperSkillsNetwork-DS0105EN-SkillsNetwork/labs/Module2/images/SN_web_lightmode.png" width="300" alt="cognitiveclass.ai logo">
</center>


# GitHub Basics Notebook



## Introduction  

This notebook is created to practice GitHub basics.  
It will cover how to work with repositories, commits, and file management.  


## Data Science Languages  

- Python  
- R  
- SQL  
- Julia  
- Scala  


## Data Science Tools  

| Tool            | Category            | Description                          |  
|-----------------|---------------------|--------------------------------------|  
| Jupyter Notebook | IDE / Notebook      | Interactive environment for coding & visualization |  
| RStudio         | IDE                 | Integrated development environment for R |  
| Apache Spark    | Big Data Framework  | Distributed data processing engine   |  
| TensorFlow      | ML/DL Library       | Deep learning and machine learning framework |  
| Tableau         | Visualization Tool  | Data visualization and BI software  |  


## Arithmetic Expression Examples  

In this section, we will explore simple arithmetic expressions such as addition, subtraction, multiplication, and division.  


# Multiplication
multiply = 5 * 4
print("Multiplication Result:", multiply)

# Addition
add = 5 + 4
print("Addition Result:", add)


# Minutes to hours conversion
minutes = 150
hours = minutes / 60
print(minutes, "minutes is equal to", hours, "hours")


## Objectives  

- Understand the basics of GitHub and version control  
- Learn how to create and manage repositories  
- Explore common data science languages and libraries  
- Practice arithmetic operations in Python  
- Learn to perform simple data conversions (e.g., minutes to hours)  


## Author  

**Name:** Vinayak Kinjalakar  
**Email :** vinayakkinjalakar19@gmail.com



```python

```
